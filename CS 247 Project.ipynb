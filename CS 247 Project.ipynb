{
 "cells": [
  {
   "cell_type": "markdown",
   "id": "11bb7448",
   "metadata": {},
   "source": [
    "### Import Library"
   ]
  },
  {
   "cell_type": "code",
   "execution_count": 33,
   "id": "1042ab98",
   "metadata": {},
   "outputs": [],
   "source": [
    "import pandas as pd\n",
    "import numpy as np\n",
    "import matplotlib.pyplot as plt\n",
    "import re\n",
    "from bs4 import BeautifulSoup\n",
    "from nltk.tokenize import word_tokenize\n",
    "from nltk.corpus import stopwords\n",
    "from sklearn.model_selection import train_test_split\n",
    "from sklearn.feature_extraction.text import TfidfVectorizer\n",
    "from sklearn.metrics import accuracy_score, recall_score, precision_score, f1_score, confusion_matrix\n",
    "from sklearn.linear_model import LogisticRegression\n",
    "from sklearn.svm import LinearSVC, SVC\n",
    "import fasttext"
   ]
  },
  {
   "cell_type": "markdown",
   "id": "072d68ac",
   "metadata": {},
   "source": [
    "### Read the raw data"
   ]
  },
  {
   "cell_type": "code",
   "execution_count": 2,
   "id": "bee12726",
   "metadata": {},
   "outputs": [],
   "source": [
    "df = pd.read_csv(\"data.tsv\", sep='\\t')"
   ]
  },
  {
   "cell_type": "code",
   "execution_count": 3,
   "id": "07c55489",
   "metadata": {},
   "outputs": [
    {
     "data": {
      "text/plain": [
       "id           0\n",
       "sentiment    0\n",
       "review       0\n",
       "dtype: int64"
      ]
     },
     "execution_count": 3,
     "metadata": {},
     "output_type": "execute_result"
    }
   ],
   "source": [
    "df.isnull().sum()"
   ]
  },
  {
   "cell_type": "code",
   "execution_count": 4,
   "id": "11040bc1",
   "metadata": {},
   "outputs": [
    {
     "data": {
      "text/plain": [
       "(25000, 3)"
      ]
     },
     "execution_count": 4,
     "metadata": {},
     "output_type": "execute_result"
    }
   ],
   "source": [
    "df.shape"
   ]
  },
  {
   "cell_type": "code",
   "execution_count": 5,
   "id": "6a678dd4",
   "metadata": {},
   "outputs": [
    {
     "data": {
      "text/plain": [
       "id           25000\n",
       "sentiment        2\n",
       "review       24904\n",
       "dtype: int64"
      ]
     },
     "execution_count": 5,
     "metadata": {},
     "output_type": "execute_result"
    }
   ],
   "source": [
    "df.nunique()"
   ]
  },
  {
   "cell_type": "code",
   "execution_count": 6,
   "id": "0fe40b3f",
   "metadata": {},
   "outputs": [
    {
     "name": "stdout",
     "output_type": "stream",
     "text": [
      "<class 'pandas.core.frame.DataFrame'>\n",
      "RangeIndex: 25000 entries, 0 to 24999\n",
      "Data columns (total 3 columns):\n",
      " #   Column     Non-Null Count  Dtype \n",
      "---  ------     --------------  ----- \n",
      " 0   id         25000 non-null  object\n",
      " 1   sentiment  25000 non-null  int64 \n",
      " 2   review     25000 non-null  object\n",
      "dtypes: int64(1), object(2)\n",
      "memory usage: 586.1+ KB\n"
     ]
    }
   ],
   "source": [
    "df.info()"
   ]
  },
  {
   "cell_type": "code",
   "execution_count": 7,
   "id": "e40355fa",
   "metadata": {
    "scrolled": false
   },
   "outputs": [
    {
     "data": {
      "text/html": [
       "<div>\n",
       "<style scoped>\n",
       "    .dataframe tbody tr th:only-of-type {\n",
       "        vertical-align: middle;\n",
       "    }\n",
       "\n",
       "    .dataframe tbody tr th {\n",
       "        vertical-align: top;\n",
       "    }\n",
       "\n",
       "    .dataframe thead th {\n",
       "        text-align: right;\n",
       "    }\n",
       "</style>\n",
       "<table border=\"1\" class=\"dataframe\">\n",
       "  <thead>\n",
       "    <tr style=\"text-align: right;\">\n",
       "      <th></th>\n",
       "      <th>id</th>\n",
       "      <th>sentiment</th>\n",
       "      <th>review</th>\n",
       "    </tr>\n",
       "  </thead>\n",
       "  <tbody>\n",
       "    <tr>\n",
       "      <th>0</th>\n",
       "      <td>5814_8</td>\n",
       "      <td>1</td>\n",
       "      <td>With all this stuff going down at the moment w...</td>\n",
       "    </tr>\n",
       "    <tr>\n",
       "      <th>1</th>\n",
       "      <td>2381_9</td>\n",
       "      <td>1</td>\n",
       "      <td>\\The Classic War of the Worlds\\\" by Timothy Hi...</td>\n",
       "    </tr>\n",
       "    <tr>\n",
       "      <th>2</th>\n",
       "      <td>7759_3</td>\n",
       "      <td>0</td>\n",
       "      <td>The film starts with a manager (Nicholas Bell)...</td>\n",
       "    </tr>\n",
       "    <tr>\n",
       "      <th>3</th>\n",
       "      <td>3630_4</td>\n",
       "      <td>0</td>\n",
       "      <td>It must be assumed that those who praised this...</td>\n",
       "    </tr>\n",
       "    <tr>\n",
       "      <th>4</th>\n",
       "      <td>9495_8</td>\n",
       "      <td>1</td>\n",
       "      <td>Superbly trashy and wondrously unpretentious 8...</td>\n",
       "    </tr>\n",
       "    <tr>\n",
       "      <th>...</th>\n",
       "      <td>...</td>\n",
       "      <td>...</td>\n",
       "      <td>...</td>\n",
       "    </tr>\n",
       "    <tr>\n",
       "      <th>24995</th>\n",
       "      <td>3453_3</td>\n",
       "      <td>0</td>\n",
       "      <td>It seems like more consideration has gone into...</td>\n",
       "    </tr>\n",
       "    <tr>\n",
       "      <th>24996</th>\n",
       "      <td>5064_1</td>\n",
       "      <td>0</td>\n",
       "      <td>I don't believe they made this film. Completel...</td>\n",
       "    </tr>\n",
       "    <tr>\n",
       "      <th>24997</th>\n",
       "      <td>10905_3</td>\n",
       "      <td>0</td>\n",
       "      <td>Guy is a loser. Can't get girls, needs to buil...</td>\n",
       "    </tr>\n",
       "    <tr>\n",
       "      <th>24998</th>\n",
       "      <td>10194_3</td>\n",
       "      <td>0</td>\n",
       "      <td>This 30 minute documentary Buñuel made in the ...</td>\n",
       "    </tr>\n",
       "    <tr>\n",
       "      <th>24999</th>\n",
       "      <td>8478_8</td>\n",
       "      <td>1</td>\n",
       "      <td>I saw this movie as a child and it broke my he...</td>\n",
       "    </tr>\n",
       "  </tbody>\n",
       "</table>\n",
       "<p>25000 rows × 3 columns</p>\n",
       "</div>"
      ],
      "text/plain": [
       "            id  sentiment                                             review\n",
       "0       5814_8          1  With all this stuff going down at the moment w...\n",
       "1       2381_9          1  \\The Classic War of the Worlds\\\" by Timothy Hi...\n",
       "2       7759_3          0  The film starts with a manager (Nicholas Bell)...\n",
       "3       3630_4          0  It must be assumed that those who praised this...\n",
       "4       9495_8          1  Superbly trashy and wondrously unpretentious 8...\n",
       "...        ...        ...                                                ...\n",
       "24995   3453_3          0  It seems like more consideration has gone into...\n",
       "24996   5064_1          0  I don't believe they made this film. Completel...\n",
       "24997  10905_3          0  Guy is a loser. Can't get girls, needs to buil...\n",
       "24998  10194_3          0  This 30 minute documentary Buñuel made in the ...\n",
       "24999   8478_8          1  I saw this movie as a child and it broke my he...\n",
       "\n",
       "[25000 rows x 3 columns]"
      ]
     },
     "execution_count": 7,
     "metadata": {},
     "output_type": "execute_result"
    }
   ],
   "source": [
    "df"
   ]
  },
  {
   "cell_type": "code",
   "execution_count": 8,
   "id": "b0a20359",
   "metadata": {},
   "outputs": [
    {
     "data": {
      "image/png": "[encoded data removed]",
      "text/plain": [
       "<Figure size 432x288 with 1 Axes>"
      ]
     },
     "metadata": {
      "needs_background": "light"
     },
     "output_type": "display_data"
    }
   ],
   "source": [
    "plt.hist(df[df.sentiment == 1].sentiment,\n",
    "         bins=2, color='green', label='Positive')\n",
    "plt.hist(df[df.sentiment == 0].sentiment,\n",
    "         bins=2, color='orange', label='Negative')\n",
    "plt.title('Distribution')\n",
    "plt.xticks([])\n",
    "plt.legend()\n",
    "plt.show()"
   ]
  },
  {
   "cell_type": "code",
   "execution_count": 9,
   "id": "cbec6da0",
   "metadata": {
    "scrolled": false
   },
   "outputs": [
    {
     "name": "stdout",
     "output_type": "stream",
     "text": [
      "1\n"
     ]
    },
    {
     "data": {
      "text/plain": [
       "\"With all this stuff going down at the moment with MJ i've started listening to his music, watching the odd documentary here and there, watched The Wiz and watched Moonwalker again. Maybe i just want to get a certain insight into this guy who i thought was really cool in the eighties just to maybe make up my mind whether he is guilty or innocent. Moonwalker is part biography, part feature film which i remember going to see at the cinema when it was originally released. Some of it has subtle messages about MJ's feeling towards the press and also the obvious message of drugs are bad m'kay.<br /><br />Visually impressive but of course this is all about Michael Jackson so unless you remotely like MJ in anyway then you are going to hate this and find it boring. Some may call MJ an egotist for consenting to the making of this movie BUT MJ and most of his fans would say that he made it for the fans which if true is really nice of him.<br /><br />The actual feature film bit when it finally starts is only on for 20 minutes or so excluding the Smooth Criminal sequence and Joe Pesci is convincing as a psychopathic all powerful drug lord. Why he wants MJ dead so bad is beyond me. Because MJ overheard his plans? Nah, Joe Pesci's character ranted that he wanted people to know it is he who is supplying drugs etc so i dunno, maybe he just hates MJ's music.<br /><br />Lots of cool things in this like MJ turning into a car and a robot and the whole Speed Demon sequence. Also, the director must have had the patience of a saint when it came to filming the kiddy Bad sequence as usually directors hate working with one kid let alone a whole bunch of them performing a complex dance scene.<br /><br />Bottom line, this movie is for people who like MJ on one level or another (which i think is most people). If not, then stay away. It does try and give off a wholesome message and ironically MJ's bestest buddy in this movie is a girl! Michael Jackson is truly one of the most talented people ever to grace this planet but is he guilty? Well, with all the attention i've gave this subject....hmmm well i don't know because people can be different behind closed doors, i know this for a fact. He is either an extremely nice but stupid guy or one of the most sickest liars. I hope he is not the latter.\""
      ]
     },
     "execution_count": 9,
     "metadata": {},
     "output_type": "execute_result"
    }
   ],
   "source": [
    "print(df[\"sentiment\"][0])\n",
    "df[\"review\"][0]"
   ]
  },
  {
   "cell_type": "markdown",
   "id": "1ea72733",
   "metadata": {},
   "source": [
    "### Clean Review & Word Tokenzitaion: remove stopwords and non-alphabatical characters, and convert all words to lowercases"
   ]
  },
  {
   "cell_type": "code",
   "execution_count": 10,
   "id": "e582a6ec",
   "metadata": {
    "scrolled": true
   },
   "outputs": [
    {
     "data": {
      "text/html": [
       "<div>\n",
       "<style scoped>\n",
       "    .dataframe tbody tr th:only-of-type {\n",
       "        vertical-align: middle;\n",
       "    }\n",
       "\n",
       "    .dataframe tbody tr th {\n",
       "        vertical-align: top;\n",
       "    }\n",
       "\n",
       "    .dataframe thead th {\n",
       "        text-align: right;\n",
       "    }\n",
       "</style>\n",
       "<table border=\"1\" class=\"dataframe\">\n",
       "  <thead>\n",
       "    <tr style=\"text-align: right;\">\n",
       "      <th></th>\n",
       "      <th>id</th>\n",
       "      <th>sentiment</th>\n",
       "      <th>review</th>\n",
       "      <th>cleaned_review</th>\n",
       "    </tr>\n",
       "  </thead>\n",
       "  <tbody>\n",
       "    <tr>\n",
       "      <th>0</th>\n",
       "      <td>5814_8</td>\n",
       "      <td>1</td>\n",
       "      <td>With all this stuff going down at the moment w...</td>\n",
       "      <td>stuff going moment mj started listening music ...</td>\n",
       "    </tr>\n",
       "    <tr>\n",
       "      <th>1</th>\n",
       "      <td>2381_9</td>\n",
       "      <td>1</td>\n",
       "      <td>\\The Classic War of the Worlds\\\" by Timothy Hi...</td>\n",
       "      <td>classic war worlds timothy hines entertaining ...</td>\n",
       "    </tr>\n",
       "    <tr>\n",
       "      <th>2</th>\n",
       "      <td>7759_3</td>\n",
       "      <td>0</td>\n",
       "      <td>The film starts with a manager (Nicholas Bell)...</td>\n",
       "      <td>film starts manager nicholas bell giving welco...</td>\n",
       "    </tr>\n",
       "    <tr>\n",
       "      <th>3</th>\n",
       "      <td>3630_4</td>\n",
       "      <td>0</td>\n",
       "      <td>It must be assumed that those who praised this...</td>\n",
       "      <td>must assumed praised film greatest filmed oper...</td>\n",
       "    </tr>\n",
       "    <tr>\n",
       "      <th>4</th>\n",
       "      <td>9495_8</td>\n",
       "      <td>1</td>\n",
       "      <td>Superbly trashy and wondrously unpretentious 8...</td>\n",
       "      <td>superbly trashy wondrously unpretentious explo...</td>\n",
       "    </tr>\n",
       "    <tr>\n",
       "      <th>...</th>\n",
       "      <td>...</td>\n",
       "      <td>...</td>\n",
       "      <td>...</td>\n",
       "      <td>...</td>\n",
       "    </tr>\n",
       "    <tr>\n",
       "      <th>24995</th>\n",
       "      <td>3453_3</td>\n",
       "      <td>0</td>\n",
       "      <td>It seems like more consideration has gone into...</td>\n",
       "      <td>seems like consideration gone imdb reviews fil...</td>\n",
       "    </tr>\n",
       "    <tr>\n",
       "      <th>24996</th>\n",
       "      <td>5064_1</td>\n",
       "      <td>0</td>\n",
       "      <td>I don't believe they made this film. Completel...</td>\n",
       "      <td>believe made film completely unnecessary first...</td>\n",
       "    </tr>\n",
       "    <tr>\n",
       "      <th>24997</th>\n",
       "      <td>10905_3</td>\n",
       "      <td>0</td>\n",
       "      <td>Guy is a loser. Can't get girls, needs to buil...</td>\n",
       "      <td>guy loser get girls needs build picked stronge...</td>\n",
       "    </tr>\n",
       "    <tr>\n",
       "      <th>24998</th>\n",
       "      <td>10194_3</td>\n",
       "      <td>0</td>\n",
       "      <td>This 30 minute documentary Buñuel made in the ...</td>\n",
       "      <td>minute documentary bu uel made early one spain...</td>\n",
       "    </tr>\n",
       "    <tr>\n",
       "      <th>24999</th>\n",
       "      <td>8478_8</td>\n",
       "      <td>1</td>\n",
       "      <td>I saw this movie as a child and it broke my he...</td>\n",
       "      <td>saw movie child broke heart story unfinished e...</td>\n",
       "    </tr>\n",
       "  </tbody>\n",
       "</table>\n",
       "<p>25000 rows × 4 columns</p>\n",
       "</div>"
      ],
      "text/plain": [
       "            id  sentiment                                             review  \\\n",
       "0       5814_8          1  With all this stuff going down at the moment w...   \n",
       "1       2381_9          1  \\The Classic War of the Worlds\\\" by Timothy Hi...   \n",
       "2       7759_3          0  The film starts with a manager (Nicholas Bell)...   \n",
       "3       3630_4          0  It must be assumed that those who praised this...   \n",
       "4       9495_8          1  Superbly trashy and wondrously unpretentious 8...   \n",
       "...        ...        ...                                                ...   \n",
       "24995   3453_3          0  It seems like more consideration has gone into...   \n",
       "24996   5064_1          0  I don't believe they made this film. Completel...   \n",
       "24997  10905_3          0  Guy is a loser. Can't get girls, needs to buil...   \n",
       "24998  10194_3          0  This 30 minute documentary Buñuel made in the ...   \n",
       "24999   8478_8          1  I saw this movie as a child and it broke my he...   \n",
       "\n",
       "                                          cleaned_review  \n",
       "0      stuff going moment mj started listening music ...  \n",
       "1      classic war worlds timothy hines entertaining ...  \n",
       "2      film starts manager nicholas bell giving welco...  \n",
       "3      must assumed praised film greatest filmed oper...  \n",
       "4      superbly trashy wondrously unpretentious explo...  \n",
       "...                                                  ...  \n",
       "24995  seems like consideration gone imdb reviews fil...  \n",
       "24996  believe made film completely unnecessary first...  \n",
       "24997  guy loser get girls needs build picked stronge...  \n",
       "24998  minute documentary bu uel made early one spain...  \n",
       "24999  saw movie child broke heart story unfinished e...  \n",
       "\n",
       "[25000 rows x 4 columns]"
      ]
     },
     "execution_count": 10,
     "metadata": {},
     "output_type": "execute_result"
    }
   ],
   "source": [
    "stop_words = stopwords.words(\"english\")\n",
    "def clean(review):\n",
    "    clean_html = BeautifulSoup(review).get_text()\n",
    "    clean_non_letters = re.sub(\"[^a-zA-Z]\", \" \", clean_html)\n",
    "    cleaned_lowercase = clean_non_letters.lower()\n",
    "    words = cleaned_lowercase.split()\n",
    "    cleaned_words = [w for w in words if w not in stop_words]\n",
    "    return \" \".join(cleaned_words)\n",
    "\n",
    "df[\"cleaned_review\"] = df[\"review\"].apply(clean)\n",
    "df"
   ]
  },
  {
   "cell_type": "code",
   "execution_count": 11,
   "id": "1e2643f2",
   "metadata": {},
   "outputs": [
    {
     "name": "stdout",
     "output_type": "stream",
     "text": [
      "1\n"
     ]
    },
    {
     "data": {
      "text/plain": [
       "'stuff going moment mj started listening music watching odd documentary watched wiz watched moonwalker maybe want get certain insight guy thought really cool eighties maybe make mind whether guilty innocent moonwalker part biography part feature film remember going see cinema originally released subtle messages mj feeling towards press also obvious message drugs bad kay visually impressive course michael jackson unless remotely like mj anyway going hate find boring may call mj egotist consenting making movie mj fans would say made fans true really nice actual feature film bit finally starts minutes excluding smooth criminal sequence joe pesci convincing psychopathic powerful drug lord wants mj dead bad beyond mj overheard plans nah joe pesci character ranted wanted people know supplying drugs etc dunno maybe hates mj music lots cool things like mj turning car robot whole speed demon sequence also director must patience saint came filming kiddy bad sequence usually directors hate working one kid let alone whole bunch performing complex dance scene bottom line movie people like mj one level another think people stay away try give wholesome message ironically mj bestest buddy movie girl michael jackson truly one talented people ever grace planet guilty well attention gave subject hmmm well know people different behind closed doors know fact either extremely nice stupid guy one sickest liars hope latter'"
      ]
     },
     "execution_count": 11,
     "metadata": {},
     "output_type": "execute_result"
    }
   ],
   "source": [
    "print(df[\"sentiment\"][0])\n",
    "df[\"cleaned_review\"][0]"
   ]
  },
  {
   "cell_type": "markdown",
   "id": "45fae67c",
   "metadata": {},
   "source": [
    "### Train-Test Split"
   ]
  },
  {
   "cell_type": "code",
   "execution_count": 12,
   "id": "240ef48a",
   "metadata": {},
   "outputs": [
    {
     "name": "stdout",
     "output_type": "stream",
     "text": [
      "Traing size: (17500,)\n",
      "Test size: (7500,)\n"
     ]
    }
   ],
   "source": [
    "X_train, X_test, y_train, y_test = train_test_split(df['cleaned_review'],df['sentiment'],test_size = 0.3, random_state = 10)\n",
    "print(\"Traing size:\", X_train.shape)\n",
    "print(\"Test size:\", X_test.shape)"
   ]
  },
  {
   "cell_type": "markdown",
   "id": "8c3ccc2a",
   "metadata": {},
   "source": [
    "### Fit model - Logestic Regression Model"
   ]
  },
  {
   "cell_type": "code",
   "execution_count": 13,
   "id": "cb81acd5",
   "metadata": {},
   "outputs": [
    {
     "name": "stdout",
     "output_type": "stream",
     "text": [
      "Traing size: (17500,)\n",
      "Test size: (7500,)\n"
     ]
    }
   ],
   "source": [
    "X_train, X_test, y_train, y_test = train_test_split(df['cleaned_review'],df['sentiment'],test_size = 0.3, random_state = 10)\n",
    "print(\"Traing size:\", X_train.shape)\n",
    "print(\"Test size:\", X_test.shape)"
   ]
  },
  {
   "cell_type": "code",
   "execution_count": 14,
   "id": "cad5885c",
   "metadata": {},
   "outputs": [],
   "source": [
    "max_feature = [50,100,150,200,250]\n",
    "penalty = ['l1', 'l2']\n",
    "regularization = [0.5, 1, 5]\n",
    "model_pars = []\n",
    "scores = []\n",
    "f1 = 0"
   ]
  },
  {
   "cell_type": "code",
   "execution_count": 15,
   "id": "741562ad",
   "metadata": {
    "scrolled": true
   },
   "outputs": [
    {
     "name": "stdout",
     "output_type": "stream",
     "text": [
      "Parameters of the best logistice regression model:  50, penalty=l1, C=0.5\n",
      "F1-score of the best logistic regression model:  0.7041959050684197\n"
     ]
    }
   ],
   "source": [
    "for n in max_feature:\n",
    "    vectorizer = TfidfVectorizer(max_features = n)\n",
    "    vectorized_train = vectorizer.fit_transform(X_train)\n",
    "    vectorized_test = vectorizer.fit_transform(X_test)\n",
    "    for p in penalty:\n",
    "        for c in regularization:\n",
    "            model_pars.append(str(n) + \", penalty=\" + str(p) + \", C=\" + str(c))\n",
    "            lr = LogisticRegression(penalty=p, C=c, random_state=0, max_iter=300, solver='saga')\n",
    "            model_lr = lr.fit(vectorized_train,y_train)\n",
    "            pred = model_lr.predict(vectorized_test)\n",
    "            scores.append([precision_score(y_test, pred, average='macro'),\n",
    "                            recall_score(y_test, pred, average='macro'),\n",
    "                            f1_score(y_test, pred, average='macro'),\n",
    "                            accuracy_score(y_test, pred)])\n",
    "            cm = confusion_matrix(y_test, pred)\n",
    "            \n",
    "            if f1 < f1_score(y_test, pred, average='macro'):\n",
    "                best_model = model_lr\n",
    "                best_max_feature = n\n",
    "                f1 = f1_score(y_test, pred, average='macro')\n",
    "                best_cm = cm\n",
    "results = pd.DataFrame.from_dict(dict(zip(model_pars, scores))).set_index(\n",
    "    pd.Index(['Precision', 'Recall', 'F1-score', 'Accuracy'])).T.sort_values('F1-score', ascending=False).round(4)\n",
    "\n",
    "best_f1_score = f1  \n",
    "print('Parameters of the best logistice regression model: ', results.index[0])\n",
    "print('F1-score of the best logistic regression model: ', best_f1_score)"
   ]
  },
  {
   "cell_type": "code",
   "execution_count": 18,
   "id": "70efe8b0",
   "metadata": {},
   "outputs": [],
   "source": [
    "results.to_csv('logistic regression.csv')"
   ]
  },
  {
   "cell_type": "code",
   "execution_count": 16,
   "id": "3f740605",
   "metadata": {},
   "outputs": [
    {
     "name": "stdout",
     "output_type": "stream",
     "text": [
      "[[2583 1118]\n",
      " [1100 2699]]\n",
      "precision 0.704215126876768\n",
      "recall 0.7041847998367579\n",
      "f1-score 0.7041959050684197\n",
      "accuracy 0.7042666666666667\n"
     ]
    }
   ],
   "source": [
    "vectorizer = TfidfVectorizer(max_features = 50)\n",
    "vectorized_train = vectorizer.fit_transform(X_train)\n",
    "vectorized_test = vectorizer.fit_transform(X_test)\n",
    "lr = LogisticRegression(penalty='l1', C=0.5, random_state=0, max_iter=300, solver='saga')\n",
    "model_lr = lr.fit(vectorized_train,y_train)\n",
    "pred = model_lr.predict(vectorized_test)\n",
    "cm = confusion_matrix(y_test, pred)\n",
    "print(cm)\n",
    "print('precision',precision_score(y_test, pred, average='macro'))\n",
    "print('recall',recall_score(y_test, pred, average='macro'))\n",
    "print('f1-score', f1_score(y_test, pred, average='macro'))\n",
    "print('accuracy', accuracy_score(y_test, pred) )"
   ]
  },
  {
   "cell_type": "markdown",
   "id": "8bf9792b",
   "metadata": {},
   "source": [
    "### Fit model - Support Vector Machine"
   ]
  },
  {
   "cell_type": "code",
   "execution_count": 19,
   "id": "fd16d925",
   "metadata": {},
   "outputs": [
    {
     "name": "stdout",
     "output_type": "stream",
     "text": [
      "Traing size: (17500,)\n",
      "Test size: (7500,)\n"
     ]
    }
   ],
   "source": [
    "X_train, X_test, y_train, y_test = train_test_split(df['cleaned_review'],df['sentiment'],test_size = 0.3, random_state = 10)\n",
    "print(\"Traing size:\", X_train.shape)\n",
    "print(\"Test size:\", X_test.shape)"
   ]
  },
  {
   "cell_type": "code",
   "execution_count": 20,
   "id": "b2a865cb",
   "metadata": {},
   "outputs": [],
   "source": [
    "max_feature = [50,100,150,200,250]\n",
    "penalty = ['l1', 'l2']\n",
    "regularization = [0.5, 1, 5]\n",
    "model_pars = []\n",
    "scores = []\n",
    "f1 = 0"
   ]
  },
  {
   "cell_type": "code",
   "execution_count": 21,
   "id": "57351cd4",
   "metadata": {},
   "outputs": [
    {
     "name": "stdout",
     "output_type": "stream",
     "text": [
      "Parameters of the best support vetor machine model:  50, penalty=l1, C=1\n",
      "F1-score of the best support vetor machine model:  0.7058164384191037\n"
     ]
    }
   ],
   "source": [
    "for n in max_feature:\n",
    "    vectorizer = TfidfVectorizer(max_features = n)\n",
    "    vectorized_train = vectorizer.fit_transform(X_train)\n",
    "    vectorized_test = vectorizer.fit_transform(X_test)\n",
    "    for p in penalty:\n",
    "        for c in regularization:\n",
    "            model_pars.append(str(n) + \", penalty=\" + str(p) + \", C=\" + str(c))\n",
    "            svm = LinearSVC(penalty=p, C=c, dual=False, random_state=0, max_iter=100000)\n",
    "            model_svm = svm.fit(vectorized_train,y_train)\n",
    "            pred = model_svm.predict(vectorized_test)\n",
    "            scores.append([precision_score(y_test, pred, average='macro'),\n",
    "                            recall_score(y_test, pred, average='macro'),\n",
    "                            f1_score(y_test, pred, average='macro'),\n",
    "                            accuracy_score(y_test, pred)])\n",
    "            cm = confusion_matrix(y_test, pred)\n",
    "            \n",
    "            if f1 < f1_score(y_test, pred, average='macro'):\n",
    "                best_model = model_svm\n",
    "                best_max_feature = n\n",
    "                f1 = f1_score(y_test, pred, average='macro')\n",
    "                best_cm = cm\n",
    "results = pd.DataFrame.from_dict(dict(zip(model_pars, scores))).set_index(\n",
    "    pd.Index(['Precision', 'Recall', 'F1-score', 'Accuracy'])).T.sort_values('F1-score', ascending=False).round(4)\n",
    "\n",
    "best_f1_score = f1  \n",
    "print('Parameters of the best support vetor machine model: ', results.index[0])\n",
    "print('F1-score of the best support vetor machine model: ', best_f1_score)"
   ]
  },
  {
   "cell_type": "code",
   "execution_count": 22,
   "id": "d8d77376",
   "metadata": {},
   "outputs": [],
   "source": [
    "results.to_csv('svm.csv')"
   ]
  },
  {
   "cell_type": "code",
   "execution_count": 20,
   "id": "a20c5a41",
   "metadata": {},
   "outputs": [
    {
     "name": "stdout",
     "output_type": "stream",
     "text": [
      "                        Precision  Recall  F1-score  Accuracy\n",
      "50, penalty=l1, C=1        0.7058  0.7058    0.7058    0.7059\n",
      "50, penalty=l1, C=5        0.7054  0.7054    0.7054    0.7055\n",
      "50, penalty=l2, C=0.5      0.7054  0.7054    0.7054    0.7055\n",
      "50, penalty=l2, C=1        0.7054  0.7054    0.7054    0.7055\n",
      "50, penalty=l1, C=0.5      0.7054  0.7054    0.7054    0.7055\n",
      "50, penalty=l2, C=5        0.7053  0.7053    0.7053    0.7053\n",
      "150, penalty=l2, C=0.5     0.6900  0.6840    0.6806    0.6828\n",
      "150, penalty=l2, C=1       0.6900  0.6839    0.6804    0.6827\n",
      "150, penalty=l2, C=5       0.6896  0.6834    0.6799    0.6821\n",
      "150, penalty=l1, C=5       0.6896  0.6834    0.6798    0.6821\n",
      "150, penalty=l1, C=0.5     0.6894  0.6832    0.6797    0.6820\n",
      "150, penalty=l1, C=1       0.6893  0.6831    0.6796    0.6819\n",
      "100, penalty=l1, C=5       0.6445  0.6437    0.6434    0.6441\n",
      "100, penalty=l2, C=1       0.6445  0.6437    0.6434    0.6441\n",
      "100, penalty=l2, C=0.5     0.6445  0.6437    0.6434    0.6441\n",
      "100, penalty=l1, C=1       0.6443  0.6435    0.6433    0.6440\n",
      "100, penalty=l1, C=0.5     0.6443  0.6435    0.6433    0.6440\n",
      "100, penalty=l2, C=5       0.6441  0.6433    0.6430    0.6437\n",
      "200, penalty=l1, C=0.5     0.6207  0.6197    0.6191    0.6203\n",
      "200, penalty=l1, C=1       0.6204  0.6194    0.6189    0.6200\n",
      "200, penalty=l2, C=1       0.6203  0.6193    0.6188    0.6199\n",
      "200, penalty=l2, C=5       0.6201  0.6192    0.6187    0.6197\n",
      "200, penalty=l1, C=5       0.6200  0.6190    0.6186    0.6196\n",
      "200, penalty=l2, C=0.5     0.6199  0.6189    0.6184    0.6195\n",
      "250, penalty=l1, C=0.5     0.5674  0.5628    0.5541    0.5611\n",
      "250, penalty=l1, C=1       0.5671  0.5623    0.5533    0.5605\n",
      "250, penalty=l2, C=0.5     0.5660  0.5614    0.5524    0.5596\n",
      "250, penalty=l2, C=1       0.5661  0.5612    0.5521    0.5595\n",
      "250, penalty=l2, C=5       0.5663  0.5614    0.5521    0.5596\n",
      "250, penalty=l1, C=5       0.5658  0.5610    0.5517    0.5592\n"
     ]
    }
   ],
   "source": [
    "print(results)"
   ]
  },
  {
   "cell_type": "code",
   "execution_count": 21,
   "id": "13d544ca",
   "metadata": {},
   "outputs": [
    {
     "name": "stdout",
     "output_type": "stream",
     "text": [
      "[[2598 1103]\n",
      " [1103 2696]]\n",
      "precision 0.7058164384191037\n",
      "recall 0.7058164384191037\n",
      "f1-score 0.7058164384191037\n",
      "accuracy 0.7058666666666666\n"
     ]
    }
   ],
   "source": [
    "vectorizer = TfidfVectorizer(max_features = 50)\n",
    "vectorized_train = vectorizer.fit_transform(X_train)\n",
    "vectorized_test = vectorizer.fit_transform(X_test)\n",
    "svm = LinearSVC(penalty='l1', C=1, dual=False, random_state=0, max_iter=100000)\n",
    "model_svm = svm.fit(vectorized_train,y_train)\n",
    "pred = model_svm.predict(vectorized_test)\n",
    "cm = confusion_matrix(y_test, pred)\n",
    "print(cm)\n",
    "print('precision',precision_score(y_test, pred, average='macro'))\n",
    "print('recall',recall_score(y_test, pred, average='macro'))\n",
    "print('f1-score', f1_score(y_test, pred, average='macro'))\n",
    "print('accuracy', accuracy_score(y_test, pred) )"
   ]
  },
  {
   "cell_type": "markdown",
   "id": "775f5ec3",
   "metadata": {},
   "source": [
    "### Fit model - Fasttext (Facebook)"
   ]
  },
  {
   "cell_type": "code",
   "execution_count": 23,
   "id": "70d57278",
   "metadata": {
    "scrolled": true
   },
   "outputs": [
    {
     "data": {
      "text/html": [
       "<div>\n",
       "<style scoped>\n",
       "    .dataframe tbody tr th:only-of-type {\n",
       "        vertical-align: middle;\n",
       "    }\n",
       "\n",
       "    .dataframe tbody tr th {\n",
       "        vertical-align: top;\n",
       "    }\n",
       "\n",
       "    .dataframe thead th {\n",
       "        text-align: right;\n",
       "    }\n",
       "</style>\n",
       "<table border=\"1\" class=\"dataframe\">\n",
       "  <thead>\n",
       "    <tr style=\"text-align: right;\">\n",
       "      <th></th>\n",
       "      <th>id</th>\n",
       "      <th>sentiment</th>\n",
       "      <th>review</th>\n",
       "      <th>cleaned_review</th>\n",
       "      <th>label</th>\n",
       "      <th>new_label</th>\n",
       "    </tr>\n",
       "  </thead>\n",
       "  <tbody>\n",
       "    <tr>\n",
       "      <th>0</th>\n",
       "      <td>5814_8</td>\n",
       "      <td>1</td>\n",
       "      <td>With all this stuff going down at the moment w...</td>\n",
       "      <td>stuff going moment mj started listening music ...</td>\n",
       "      <td>__label__1</td>\n",
       "      <td>__label__1 stuff going moment mj started liste...</td>\n",
       "    </tr>\n",
       "    <tr>\n",
       "      <th>1</th>\n",
       "      <td>2381_9</td>\n",
       "      <td>1</td>\n",
       "      <td>\\The Classic War of the Worlds\\\" by Timothy Hi...</td>\n",
       "      <td>classic war worlds timothy hines entertaining ...</td>\n",
       "      <td>__label__1</td>\n",
       "      <td>__label__1 classic war worlds timothy hines en...</td>\n",
       "    </tr>\n",
       "    <tr>\n",
       "      <th>2</th>\n",
       "      <td>7759_3</td>\n",
       "      <td>0</td>\n",
       "      <td>The film starts with a manager (Nicholas Bell)...</td>\n",
       "      <td>film starts manager nicholas bell giving welco...</td>\n",
       "      <td>__label__0</td>\n",
       "      <td>__label__0 film starts manager nicholas bell g...</td>\n",
       "    </tr>\n",
       "    <tr>\n",
       "      <th>3</th>\n",
       "      <td>3630_4</td>\n",
       "      <td>0</td>\n",
       "      <td>It must be assumed that those who praised this...</td>\n",
       "      <td>must assumed praised film greatest filmed oper...</td>\n",
       "      <td>__label__0</td>\n",
       "      <td>__label__0 must assumed praised film greatest ...</td>\n",
       "    </tr>\n",
       "    <tr>\n",
       "      <th>4</th>\n",
       "      <td>9495_8</td>\n",
       "      <td>1</td>\n",
       "      <td>Superbly trashy and wondrously unpretentious 8...</td>\n",
       "      <td>superbly trashy wondrously unpretentious explo...</td>\n",
       "      <td>__label__1</td>\n",
       "      <td>__label__1 superbly trashy wondrously unpreten...</td>\n",
       "    </tr>\n",
       "    <tr>\n",
       "      <th>...</th>\n",
       "      <td>...</td>\n",
       "      <td>...</td>\n",
       "      <td>...</td>\n",
       "      <td>...</td>\n",
       "      <td>...</td>\n",
       "      <td>...</td>\n",
       "    </tr>\n",
       "    <tr>\n",
       "      <th>24995</th>\n",
       "      <td>3453_3</td>\n",
       "      <td>0</td>\n",
       "      <td>It seems like more consideration has gone into...</td>\n",
       "      <td>seems like consideration gone imdb reviews fil...</td>\n",
       "      <td>__label__0</td>\n",
       "      <td>__label__0 seems like consideration gone imdb ...</td>\n",
       "    </tr>\n",
       "    <tr>\n",
       "      <th>24996</th>\n",
       "      <td>5064_1</td>\n",
       "      <td>0</td>\n",
       "      <td>I don't believe they made this film. Completel...</td>\n",
       "      <td>believe made film completely unnecessary first...</td>\n",
       "      <td>__label__0</td>\n",
       "      <td>__label__0 believe made film completely unnece...</td>\n",
       "    </tr>\n",
       "    <tr>\n",
       "      <th>24997</th>\n",
       "      <td>10905_3</td>\n",
       "      <td>0</td>\n",
       "      <td>Guy is a loser. Can't get girls, needs to buil...</td>\n",
       "      <td>guy loser get girls needs build picked stronge...</td>\n",
       "      <td>__label__0</td>\n",
       "      <td>__label__0 guy loser get girls needs build pic...</td>\n",
       "    </tr>\n",
       "    <tr>\n",
       "      <th>24998</th>\n",
       "      <td>10194_3</td>\n",
       "      <td>0</td>\n",
       "      <td>This 30 minute documentary Buñuel made in the ...</td>\n",
       "      <td>minute documentary bu uel made early one spain...</td>\n",
       "      <td>__label__0</td>\n",
       "      <td>__label__0 minute documentary bu uel made earl...</td>\n",
       "    </tr>\n",
       "    <tr>\n",
       "      <th>24999</th>\n",
       "      <td>8478_8</td>\n",
       "      <td>1</td>\n",
       "      <td>I saw this movie as a child and it broke my he...</td>\n",
       "      <td>saw movie child broke heart story unfinished e...</td>\n",
       "      <td>__label__1</td>\n",
       "      <td>__label__1 saw movie child broke heart story u...</td>\n",
       "    </tr>\n",
       "  </tbody>\n",
       "</table>\n",
       "<p>25000 rows × 6 columns</p>\n",
       "</div>"
      ],
      "text/plain": [
       "            id  sentiment                                             review  \\\n",
       "0       5814_8          1  With all this stuff going down at the moment w...   \n",
       "1       2381_9          1  \\The Classic War of the Worlds\\\" by Timothy Hi...   \n",
       "2       7759_3          0  The film starts with a manager (Nicholas Bell)...   \n",
       "3       3630_4          0  It must be assumed that those who praised this...   \n",
       "4       9495_8          1  Superbly trashy and wondrously unpretentious 8...   \n",
       "...        ...        ...                                                ...   \n",
       "24995   3453_3          0  It seems like more consideration has gone into...   \n",
       "24996   5064_1          0  I don't believe they made this film. Completel...   \n",
       "24997  10905_3          0  Guy is a loser. Can't get girls, needs to buil...   \n",
       "24998  10194_3          0  This 30 minute documentary Buñuel made in the ...   \n",
       "24999   8478_8          1  I saw this movie as a child and it broke my he...   \n",
       "\n",
       "                                          cleaned_review       label  \\\n",
       "0      stuff going moment mj started listening music ...  __label__1   \n",
       "1      classic war worlds timothy hines entertaining ...  __label__1   \n",
       "2      film starts manager nicholas bell giving welco...  __label__0   \n",
       "3      must assumed praised film greatest filmed oper...  __label__0   \n",
       "4      superbly trashy wondrously unpretentious explo...  __label__1   \n",
       "...                                                  ...         ...   \n",
       "24995  seems like consideration gone imdb reviews fil...  __label__0   \n",
       "24996  believe made film completely unnecessary first...  __label__0   \n",
       "24997  guy loser get girls needs build picked stronge...  __label__0   \n",
       "24998  minute documentary bu uel made early one spain...  __label__0   \n",
       "24999  saw movie child broke heart story unfinished e...  __label__1   \n",
       "\n",
       "                                               new_label  \n",
       "0      __label__1 stuff going moment mj started liste...  \n",
       "1      __label__1 classic war worlds timothy hines en...  \n",
       "2      __label__0 film starts manager nicholas bell g...  \n",
       "3      __label__0 must assumed praised film greatest ...  \n",
       "4      __label__1 superbly trashy wondrously unpreten...  \n",
       "...                                                  ...  \n",
       "24995  __label__0 seems like consideration gone imdb ...  \n",
       "24996  __label__0 believe made film completely unnece...  \n",
       "24997  __label__0 guy loser get girls needs build pic...  \n",
       "24998  __label__0 minute documentary bu uel made earl...  \n",
       "24999  __label__1 saw movie child broke heart story u...  \n",
       "\n",
       "[25000 rows x 6 columns]"
      ]
     },
     "execution_count": 23,
     "metadata": {},
     "output_type": "execute_result"
    }
   ],
   "source": [
    "# reformat data for fasttext\n",
    "fasttext_df = df.copy()\n",
    "fasttext_df['label'] = '__label__' + fasttext_df['sentiment'].astype(str)\n",
    "fasttext_df['label'] = fasttext_df['label'].apply(lambda x: x.replace(' ', ''))\n",
    "fasttext_df['new_label'] = fasttext_df.apply(lambda x: str(x['label']) + ' ' + str(x['cleaned_review']), axis=1)\n",
    "fasttext_df"
   ]
  },
  {
   "cell_type": "code",
   "execution_count": 25,
   "id": "b487efd1",
   "metadata": {},
   "outputs": [],
   "source": [
    "wordNgrams = [1, 2, 3]\n",
    "learning_rate = [0.1, 0.5]\n",
    "epoch = [5, 10]\n",
    "model_pars = []\n",
    "scores = []\n",
    "f1 = 0"
   ]
  },
  {
   "cell_type": "code",
   "execution_count": 26,
   "id": "447e144a",
   "metadata": {},
   "outputs": [],
   "source": [
    "def fasttext_metrics(X_test, fasttext_model):\n",
    "    actual = []\n",
    "    predicted = []\n",
    "    for sample in X_test:\n",
    "        actual.append(str(sample).split(' ')[0])\n",
    "        predicted.append(str(fasttext_model.predict(sample)[0][0]))\n",
    "\n",
    "    cm = confusion_matrix(actual, predicted)\n",
    "    recall = np.mean(np.diag(cm) / np.sum(cm, axis=1))\n",
    "    precision = np.mean(np.diag(cm) / np.sum(cm, axis=0))\n",
    "    f1 = 2 * precision * recall / (precision + recall)\n",
    "    acc = np.sum(np.diag(cm)) / np.sum(cm)\n",
    "\n",
    "    return [precision, recall, f1, acc], cm"
   ]
  },
  {
   "cell_type": "code",
   "execution_count": 28,
   "id": "4bf834e5",
   "metadata": {
    "scrolled": true
   },
   "outputs": [
    {
     "name": "stdout",
     "output_type": "stream",
     "text": [
      "Parameters of the best fasttext model:  wordNgram = 2, learning rate=0.5, epoch=10\n",
      "F1-score of the best fasttext model:  0.8937628235245251\n"
     ]
    }
   ],
   "source": [
    "X_train, X_test, y_train, y_test = train_test_split(fasttext_df['new_label'], fasttext_df['label'], \n",
    "                                                    test_size=0.3,random_state=10)\n",
    "X_train.to_csv('fasttext_X_train.txt', index=False, header=False)\n",
    "X_test.to_csv('fasttext_X_test.txt', index=False, header=False)\n",
    "for n in wordNgrams:\n",
    "    for lr in learning_rate:\n",
    "        for e in epoch:\n",
    "            model_pars.append('wordNgram = ' + str(n) + \", learning rate=\" + str(lr) + \", epoch=\" + str(e))\n",
    "            fasttext_model = fasttext.train_supervised('fasttext_X_train.txt', lr=lr, wordNgrams=n, epoch=e, loss = 'ns')\n",
    "            eval_scores, cm = fasttext_metrics(X_test, fasttext_model)\n",
    "            scores.append(eval_scores)\n",
    "            \n",
    "            if f1 < eval_scores[2]:\n",
    "                best_model = fasttext_model\n",
    "                f1 = eval_scores[2]\n",
    "                best_cm = cm\n",
    "results = pd.DataFrame.from_dict(dict(zip(model_pars, scores))).set_index(\n",
    "        pd.Index(['Precision', 'Recall', 'F1-score', 'Accuracy'])).T.sort_values('F1-score', ascending=False).round(4)\n",
    "best_f1_score = f1\n",
    "print('Parameters of the best fasttext model: ', results.index[0])\n",
    "print('F1-score of the best fasttext model: ', best_f1_score)"
   ]
  },
  {
   "cell_type": "code",
   "execution_count": 29,
   "id": "ac657ede",
   "metadata": {},
   "outputs": [],
   "source": [
    "results.to_csv('fasttext.csv')"
   ]
  },
  {
   "cell_type": "code",
   "execution_count": null,
   "id": "adb06ea8",
   "metadata": {},
   "outputs": [],
   "source": []
  }
 ],
 "metadata": {
  "kernelspec": {
   "display_name": "Python 3",
   "language": "python",
   "name": "python3"
  },
  "language_info": {
   "codemirror_mode": {
    "name": "ipython",
    "version": 3
   },
   "file_extension": ".py",
   "mimetype": "text/x-python",
   "name": "python",
   "nbconvert_exporter": "python",
   "pygments_lexer": "ipython3",
   "version": "3.8.8"
  }
 },
 "nbformat": 4,
 "nbformat_minor": 5
}
